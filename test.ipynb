{
 "metadata": {
  "name": "",
  "signature": "sha256:b97225e3170bc20fa2bc331e04ae0bcfeaa4926556700120d1416a78d78bb8af"
 },
 "nbformat": 3,
 "nbformat_minor": 0,
 "worksheets": [
  {
   "cells": [
    {
     "cell_type": "code",
     "collapsed": false,
     "input": [
      "import os\n",
      "import re\n",
      "import json\n",
      "import time\n",
      "import datetime\n",
      "import logging"
     ],
     "language": "python",
     "metadata": {},
     "outputs": [],
     "prompt_number": 1
    },
    {
     "cell_type": "code",
     "collapsed": false,
     "input": [
      "class app:\n",
      "    root_path = \"/Users/gaulinmp/projects/macs_ips/macs_ips/\"\n",
      "\n",
      "db_filename = \"data.json\"\n",
      "    \n",
      "def rw_db(key=None, value=None):\n",
      "    \"\"\"Either read the database, or pass key:value to write to db.\"\"\"\n",
      "    if key: return _w_db(key=key, value=value)\n",
      "    return _r_db()\n",
      "\n",
      "def _r_db():\n",
      "    filename = os.path.join(app.root_path, db_filename)\n",
      "    try:\n",
      "        with open(filename) as fh:\n",
      "            data = fh.read()\n",
      "    except FileNotFoundError:\n",
      "        logging.warn(\"File Not Found: {}\".format(filename))\n",
      "        with open(filename, 'w+') as fh:\n",
      "            fh.write(\"{}\")\n",
      "            data = \"{}\"\n",
      "    try:\n",
      "        return json.loads(data)\n",
      "    except ValueError:\n",
      "        logging.warn(\"Data read not valie JSON: {}\".format(data))\n",
      "        return {}\n",
      "\n",
      "def _w_db(key=None, value=None):\n",
      "    current_db = _r_db()\n",
      "    current_db[key] = value\n",
      "    filename = os.path.join(app.root_path, db_filename)\n",
      "    with open(filename, 'w+') as fh:\n",
      "            fh.write(json.dumps(current_db))\n",
      "    return json.dumps(current_db)"
     ],
     "language": "python",
     "metadata": {},
     "outputs": [],
     "prompt_number": 2
    },
    {
     "cell_type": "code",
     "collapsed": false,
     "input": [
      "!cat /Users/gaulinmp/projects/macs_ips/data.json\n",
      "print(\"\\nrw_db:\")\n",
      "print(rw_db())\n",
      "print(\"cat:\")\n",
      "!cat /Users/gaulinmp/projects/macs_ips/data.json\n",
      "print(\"\\nw_db:\")\n",
      "print(rw_db('bob','VOLTRON'))\n",
      "print(\"cat:\")\n",
      "!cat /Users/gaulinmp/projects/macs_ips/data.json\n",
      "print(\"\\nrw_db:\")\n",
      "print(rw_db())"
     ],
     "language": "python",
     "metadata": {},
     "outputs": [
      {
       "output_type": "stream",
       "stream": "stdout",
       "text": [
        "cat: /Users/gaulinmp/projects/macs_ips/data.json: No such file or directory\r\n"
       ]
      },
      {
       "output_type": "stream",
       "stream": "stdout",
       "text": [
        "\n",
        "rw_db:\n",
        "{'a': '\\\\\"} bogout', 'Hermes': '192.168.0.2', '5': '192.168.0.2', 'bob': 'VOLTRON'}\n",
        "cat:\n",
        "cat: /Users/gaulinmp/projects/macs_ips/data.json: No such file or directory\r\n"
       ]
      },
      {
       "output_type": "stream",
       "stream": "stdout",
       "text": [
        "\n",
        "w_db:\n",
        "{\"a\": \"\\\\\\\"} bogout\", \"Hermes\": \"192.168.0.2\", \"5\": \"192.168.0.2\", \"bob\": \"VOLTRON\"}\n",
        "cat:\n",
        "cat: /Users/gaulinmp/projects/macs_ips/data.json: No such file or directory\r\n"
       ]
      },
      {
       "output_type": "stream",
       "stream": "stdout",
       "text": [
        "\n",
        "rw_db:\n",
        "{'a': '\\\\\"} bogout', 'bob': 'VOLTRON', 'Hermes': '192.168.0.2', '5': '192.168.0.2'}\n"
       ]
      }
     ],
     "prompt_number": 3
    },
    {
     "cell_type": "code",
     "collapsed": false,
     "input": [
      "import ipgetter\n",
      "ipgetter.myip()"
     ],
     "language": "python",
     "metadata": {},
     "outputs": [
      {
       "metadata": {},
       "output_type": "pyout",
       "prompt_number": 4,
       "text": [
        "'128.42.67.168'"
       ]
      }
     ],
     "prompt_number": 4
    },
    {
     "cell_type": "code",
     "collapsed": false,
     "input": [
      "import socket\n",
      "socket.gethostbyname(socket.gethostname())"
     ],
     "language": "python",
     "metadata": {},
     "outputs": [
      {
       "metadata": {},
       "output_type": "pyout",
       "prompt_number": 5,
       "text": [
        "'10.118.77.67'"
       ]
      }
     ],
     "prompt_number": 5
    },
    {
     "cell_type": "code",
     "collapsed": false,
     "input": [
      "socket.gethostname().split(\".\")[0]"
     ],
     "language": "python",
     "metadata": {},
     "outputs": [
      {
       "metadata": {},
       "output_type": "pyout",
       "prompt_number": 9,
       "text": [
        "'Hermes'"
       ]
      }
     ],
     "prompt_number": 9
    },
    {
     "cell_type": "code",
     "collapsed": false,
     "input": [
      "def url_string():\n",
      "    comp_name = socket.gethostname().split(\".\")[0]\n",
      "    ip_internal = socket.gethostbyname(socket.gethostname())\n",
      "    ip_external = ipgetter.myip()\n",
      "    return (\"comp_name={}_internal&comp_ip={}\".format(comp_name, ip_internal),\n",
      "            \"comp_name={}_external&comp_ip={}\".format(comp_name, ip_external),)"
     ],
     "language": "python",
     "metadata": {},
     "outputs": [],
     "prompt_number": 12
    },
    {
     "cell_type": "code",
     "collapsed": false,
     "input": [
      "url_string()"
     ],
     "language": "python",
     "metadata": {},
     "outputs": [
      {
       "metadata": {},
       "output_type": "pyout",
       "prompt_number": 13,
       "text": [
        "('comp_name=Hermes_internal&comp_ip=10.118.77.67',\n",
        " 'comp_name=Hermes_external&comp_ip=128.42.67.168')"
       ]
      }
     ],
     "prompt_number": 13
    },
    {
     "cell_type": "code",
     "collapsed": false,
     "input": [],
     "language": "python",
     "metadata": {},
     "outputs": []
    }
   ],
   "metadata": {}
  }
 ]
}